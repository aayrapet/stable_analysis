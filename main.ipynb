{
 "cells": [
  {
   "cell_type": "code",
   "execution_count": 1,
   "metadata": {},
   "outputs": [],
   "source": [
    "import pandas as pd\n",
    "import numpy as np \n",
    "import math as mt\n",
    "import s3fs\n",
    "import zipfile\n",
    "import os\n",
    "\n",
    "\n",
    "class s3_connection():\n",
    "    def __init__(self):\n",
    "        \"\"\"\n",
    "        établir la connexion et après utiliser les fonction de read et write \n",
    "        \"\"\"\n",
    "        try:\n",
    "         s3 = s3fs.S3FileSystem(client_kwargs={\"endpoint_url\": \"https://minio.lab.sspcloud.fr\"})\n",
    "         \n",
    "         print(\"connection successful\")\n",
    "         \n",
    "        except:\n",
    "         s3=\"connection not established, debug \"\n",
    "         print(s3)\n",
    "        self.s3=s3\n",
    "    def listt(self, directory):\n",
    "        return((self.s3.ls(directory)))\n",
    "\n",
    "    def unzip(self,from_s,to_s):\n",
    "      with zipfile.ZipFile(zip_file_path, 'r') as zip_ref:\n",
    "            zip_ref.extractall(extract_to_path)\n",
    "\n",
    "    \n",
    "    def from_pandas_to_parquet_store_in_s3(self,df, directory):\n",
    "      try:\n",
    "        with self.s3.open(directory, \"wb\") as file_out:\n",
    "         df.to_parquet(file_out)\n",
    "      except: \n",
    "        print(\"Cher lecteur, cette fonction écrit dans le dossier spécifié, mais vous n'avez pas les droits :( \")\n",
    "      \n",
    "    \n",
    "    def get_tables_from_s3(self,directory):\n",
    "        \n",
    "        with self.s3.open(directory, \"rb\") as file_in:\n",
    "          df = pd.read_parquet(file_in)\n",
    "        return df\n",
    " "
   ]
  },
  {
   "cell_type": "code",
   "execution_count": 2,
   "metadata": {},
   "outputs": [
    {
     "name": "stdout",
     "output_type": "stream",
     "text": [
      "connection successful\n",
      "Loaded aayrapetyan/diffusion/binance.us-dai-usd-spot.parquet successfully!\n",
      "Loaded aayrapetyan/diffusion/binance.us-usdc-usd-spot.parquet successfully!\n",
      "Loaded aayrapetyan/diffusion/binance.us-usdt-usd-spot.parquet successfully!\n",
      "Loaded aayrapetyan/diffusion/coinbase-dai-usd-spot.parquet successfully!\n",
      "Loaded aayrapetyan/diffusion/coinbase-usdt-usd-spot.parquet successfully!\n",
      "Loaded aayrapetyan/diffusion/coinbase-wluna-usd-spot.parquet successfully!\n",
      "Loaded aayrapetyan/diffusion/ftx-cusdt-usd-spot.parquet successfully!\n",
      "Loaded aayrapetyan/diffusion/ftx-dai-usd-spot.parquet successfully!\n",
      "Loaded aayrapetyan/diffusion/ftx-luna-usd-spot.parquet successfully!\n",
      "Loaded aayrapetyan/diffusion/kraken-dai-usd-spot.parquet successfully!\n",
      "Loaded aayrapetyan/diffusion/kraken-luna-usd-spot.parquet successfully!\n",
      "Loaded aayrapetyan/diffusion/kraken-usdc-usd-spot.parquet successfully!\n",
      "Loaded aayrapetyan/diffusion/kraken-usdt-usd-spot.parquet successfully!\n",
      "binance-dai\n",
      "binance-usdc\n",
      "binance-usdt\n",
      "coinbase-dai\n",
      "coinbase-usdt\n",
      "coinbase-wluna\n",
      "ftx-cusdt\n",
      "ftx-dai\n",
      "ftx-luna\n",
      "kraken-dai\n",
      "kraken-luna\n",
      "kraken-usdc\n",
      "kraken-usdt\n"
     ]
    },
    {
     "data": {
      "text/html": [
       "<div>\n",
       "<style scoped>\n",
       "    .dataframe tbody tr th:only-of-type {\n",
       "        vertical-align: middle;\n",
       "    }\n",
       "\n",
       "    .dataframe tbody tr th {\n",
       "        vertical-align: top;\n",
       "    }\n",
       "\n",
       "    .dataframe thead th {\n",
       "        text-align: right;\n",
       "    }\n",
       "</style>\n",
       "<table border=\"1\" class=\"dataframe\">\n",
       "  <thead>\n",
       "    <tr style=\"text-align: right;\">\n",
       "      <th></th>\n",
       "      <th>market</th>\n",
       "      <th>time</th>\n",
       "      <th>coin_metrics_id</th>\n",
       "      <th>amount</th>\n",
       "      <th>price</th>\n",
       "      <th>database_time</th>\n",
       "      <th>side</th>\n",
       "    </tr>\n",
       "  </thead>\n",
       "  <tbody>\n",
       "    <tr>\n",
       "      <th>0</th>\n",
       "      <td>ftx-dai-usd-spot</td>\n",
       "      <td>2022-01-01 00:19:59.720191+00:00</td>\n",
       "      <td>2953428441</td>\n",
       "      <td>3028.9</td>\n",
       "      <td>1.0</td>\n",
       "      <td>2022-01-01 00:20:00.075013+00:00</td>\n",
       "      <td>buy</td>\n",
       "    </tr>\n",
       "    <tr>\n",
       "      <th>1</th>\n",
       "      <td>ftx-dai-usd-spot</td>\n",
       "      <td>2022-01-01 00:19:59.720191+00:00</td>\n",
       "      <td>2953428442</td>\n",
       "      <td>2000.0</td>\n",
       "      <td>1.0</td>\n",
       "      <td>2022-01-01 00:20:00.075013+00:00</td>\n",
       "      <td>buy</td>\n",
       "    </tr>\n",
       "    <tr>\n",
       "      <th>2</th>\n",
       "      <td>ftx-dai-usd-spot</td>\n",
       "      <td>2022-01-01 00:19:59.720191+00:00</td>\n",
       "      <td>2953428443</td>\n",
       "      <td>1.0</td>\n",
       "      <td>1.0</td>\n",
       "      <td>2022-01-01 00:20:00.075013+00:00</td>\n",
       "      <td>buy</td>\n",
       "    </tr>\n",
       "    <tr>\n",
       "      <th>3</th>\n",
       "      <td>ftx-dai-usd-spot</td>\n",
       "      <td>2022-01-01 00:19:59.720191+00:00</td>\n",
       "      <td>2953428444</td>\n",
       "      <td>5.0</td>\n",
       "      <td>1.0</td>\n",
       "      <td>2022-01-01 00:20:00.075013+00:00</td>\n",
       "      <td>buy</td>\n",
       "    </tr>\n",
       "    <tr>\n",
       "      <th>4</th>\n",
       "      <td>ftx-dai-usd-spot</td>\n",
       "      <td>2022-01-01 00:19:59.720191+00:00</td>\n",
       "      <td>2953428445</td>\n",
       "      <td>2150.2</td>\n",
       "      <td>1.0</td>\n",
       "      <td>2022-01-01 00:20:00.075013+00:00</td>\n",
       "      <td>buy</td>\n",
       "    </tr>\n",
       "    <tr>\n",
       "      <th>...</th>\n",
       "      <td>...</td>\n",
       "      <td>...</td>\n",
       "      <td>...</td>\n",
       "      <td>...</td>\n",
       "      <td>...</td>\n",
       "      <td>...</td>\n",
       "      <td>...</td>\n",
       "    </tr>\n",
       "    <tr>\n",
       "      <th>126811</th>\n",
       "      <td>ftx-dai-usd-spot</td>\n",
       "      <td>2022-11-12 03:22:06.088667+00:00</td>\n",
       "      <td>5412623105</td>\n",
       "      <td>29.1</td>\n",
       "      <td>1.013</td>\n",
       "      <td>2022-11-12 03:22:06.375870+00:00</td>\n",
       "      <td>sell</td>\n",
       "    </tr>\n",
       "    <tr>\n",
       "      <th>126812</th>\n",
       "      <td>ftx-dai-usd-spot</td>\n",
       "      <td>2022-11-12 03:22:06.224272+00:00</td>\n",
       "      <td>5412623109</td>\n",
       "      <td>49.4</td>\n",
       "      <td>1.013</td>\n",
       "      <td>2022-11-12 03:22:06.375870+00:00</td>\n",
       "      <td>sell</td>\n",
       "    </tr>\n",
       "    <tr>\n",
       "      <th>126813</th>\n",
       "      <td>ftx-dai-usd-spot</td>\n",
       "      <td>2022-11-12 03:22:06.258189+00:00</td>\n",
       "      <td>5412623113</td>\n",
       "      <td>29.5</td>\n",
       "      <td>1.013</td>\n",
       "      <td>2022-11-12 03:22:06.375870+00:00</td>\n",
       "      <td>sell</td>\n",
       "    </tr>\n",
       "    <tr>\n",
       "      <th>126814</th>\n",
       "      <td>ftx-dai-usd-spot</td>\n",
       "      <td>2022-11-12 03:22:06.354345+00:00</td>\n",
       "      <td>5412623119</td>\n",
       "      <td>42.2</td>\n",
       "      <td>1.013</td>\n",
       "      <td>2022-11-12 03:22:06.625909+00:00</td>\n",
       "      <td>sell</td>\n",
       "    </tr>\n",
       "    <tr>\n",
       "      <th>126815</th>\n",
       "      <td>ftx-dai-usd-spot</td>\n",
       "      <td>2022-11-12 03:27:15.473295+00:00</td>\n",
       "      <td>5412700773</td>\n",
       "      <td>2.0</td>\n",
       "      <td>1.0149</td>\n",
       "      <td>2022-11-12 03:27:15.645846+00:00</td>\n",
       "      <td>buy</td>\n",
       "    </tr>\n",
       "  </tbody>\n",
       "</table>\n",
       "<p>126816 rows × 7 columns</p>\n",
       "</div>"
      ],
      "text/plain": [
       "                  market                             time  coin_metrics_id  \\\n",
       "0       ftx-dai-usd-spot 2022-01-01 00:19:59.720191+00:00       2953428441   \n",
       "1       ftx-dai-usd-spot 2022-01-01 00:19:59.720191+00:00       2953428442   \n",
       "2       ftx-dai-usd-spot 2022-01-01 00:19:59.720191+00:00       2953428443   \n",
       "3       ftx-dai-usd-spot 2022-01-01 00:19:59.720191+00:00       2953428444   \n",
       "4       ftx-dai-usd-spot 2022-01-01 00:19:59.720191+00:00       2953428445   \n",
       "...                  ...                              ...              ...   \n",
       "126811  ftx-dai-usd-spot 2022-11-12 03:22:06.088667+00:00       5412623105   \n",
       "126812  ftx-dai-usd-spot 2022-11-12 03:22:06.224272+00:00       5412623109   \n",
       "126813  ftx-dai-usd-spot 2022-11-12 03:22:06.258189+00:00       5412623113   \n",
       "126814  ftx-dai-usd-spot 2022-11-12 03:22:06.354345+00:00       5412623119   \n",
       "126815  ftx-dai-usd-spot 2022-11-12 03:27:15.473295+00:00       5412700773   \n",
       "\n",
       "        amount   price                    database_time  side  \n",
       "0       3028.9     1.0 2022-01-01 00:20:00.075013+00:00   buy  \n",
       "1       2000.0     1.0 2022-01-01 00:20:00.075013+00:00   buy  \n",
       "2          1.0     1.0 2022-01-01 00:20:00.075013+00:00   buy  \n",
       "3          5.0     1.0 2022-01-01 00:20:00.075013+00:00   buy  \n",
       "4       2150.2     1.0 2022-01-01 00:20:00.075013+00:00   buy  \n",
       "...        ...     ...                              ...   ...  \n",
       "126811    29.1   1.013 2022-11-12 03:22:06.375870+00:00  sell  \n",
       "126812    49.4   1.013 2022-11-12 03:22:06.375870+00:00  sell  \n",
       "126813    29.5   1.013 2022-11-12 03:22:06.375870+00:00  sell  \n",
       "126814    42.2   1.013 2022-11-12 03:22:06.625909+00:00  sell  \n",
       "126815     2.0  1.0149 2022-11-12 03:27:15.645846+00:00   buy  \n",
       "\n",
       "[126816 rows x 7 columns]"
      ]
     },
     "execution_count": 2,
     "metadata": {},
     "output_type": "execute_result"
    }
   ],
   "source": [
    "  \n",
    "    \n",
    "s3=s3_connection()\n",
    "directory=\"aayrapetyan/diffusion/\"\n",
    "tables=s3.listt(directory)\n",
    "\n",
    "dataframes = {}\n",
    "words_to_remove = [\"aayrapetyan\", \"diffusion\", \".us\", \"--\", \"usd-spot\",\"parquet\"]\n",
    "import re\n",
    "# Loop through all files in the folder\n",
    "for file_name in tables:\n",
    "    if file_name.endswith('.parquet') and \"final_table\" not in file_name:  # Check if the file is a Parquet file\n",
    "        \n",
    "        try:\n",
    "            # Read the Parquet file into a DataFrame\n",
    "            df = s3.get_tables_from_s3(file_name)\n",
    "            # Store the DataFrame using the file name (without extension) as the key\n",
    "            pattern = \"|\".join(re.escape(word) for word in words_to_remove)\n",
    "            cleaned_string = re.sub(pattern, \"\", file_name)\n",
    "            cleaned_string = re.sub(r\"[/\\.]+\", \"/\", cleaned_string).strip(\"/\")[0:-1]\n",
    "            dataframes[cleaned_string] = df\n",
    "            print(f\"Loaded {file_name} successfully!\")\n",
    "        except Exception as e:\n",
    "            print(f\"Error loading {file_name}: {e}\")\n",
    "\n",
    "for key in dataframes.keys():\n",
    "    print(key)\n",
    "\n",
    "dataframes[\"ftx-dai\"]"
   ]
  },
  {
   "cell_type": "code",
   "execution_count": 3,
   "metadata": {},
   "outputs": [
    {
     "name": "stdout",
     "output_type": "stream",
     "text": [
      "binance-dai\n",
      "binance-usdc\n",
      "binance-usdt\n",
      "coinbase-dai\n",
      "coinbase-usdt\n",
      "coinbase-wluna\n",
      "ftx-cusdt\n",
      "ftx-dai\n",
      "ftx-luna\n",
      "kraken-dai\n",
      "kraken-luna\n",
      "kraken-usdc\n",
      "kraken-usdt\n"
     ]
    }
   ],
   "source": [
    "for key in dataframes.keys():\n",
    "    print(key)"
   ]
  },
  {
   "cell_type": "code",
   "execution_count": null,
   "metadata": {},
   "outputs": [],
   "source": [
    "dataframes"
   ]
  },
  {
   "cell_type": "code",
   "execution_count": 5,
   "metadata": {},
   "outputs": [
    {
     "data": {
      "text/html": [
       "<div>\n",
       "<style scoped>\n",
       "    .dataframe tbody tr th:only-of-type {\n",
       "        vertical-align: middle;\n",
       "    }\n",
       "\n",
       "    .dataframe tbody tr th {\n",
       "        vertical-align: top;\n",
       "    }\n",
       "\n",
       "    .dataframe thead th {\n",
       "        text-align: right;\n",
       "    }\n",
       "</style>\n",
       "<table border=\"1\" class=\"dataframe\">\n",
       "  <thead>\n",
       "    <tr style=\"text-align: right;\">\n",
       "      <th></th>\n",
       "      <th>market</th>\n",
       "      <th>time</th>\n",
       "      <th>coin_metrics_id</th>\n",
       "      <th>amount</th>\n",
       "      <th>price</th>\n",
       "      <th>database_time</th>\n",
       "      <th>side</th>\n",
       "    </tr>\n",
       "  </thead>\n",
       "  <tbody>\n",
       "    <tr>\n",
       "      <th>0</th>\n",
       "      <td>ftx-luna-usd-spot</td>\n",
       "      <td>2022-03-01 14:00:54.781809+00:00</td>\n",
       "      <td>3443610730</td>\n",
       "      <td>98.3</td>\n",
       "      <td>91.72</td>\n",
       "      <td>2022-03-01 14:15:22.169533+00:00</td>\n",
       "      <td>buy</td>\n",
       "    </tr>\n",
       "  </tbody>\n",
       "</table>\n",
       "</div>"
      ],
      "text/plain": [
       "              market                             time  coin_metrics_id  \\\n",
       "0  ftx-luna-usd-spot 2022-03-01 14:00:54.781809+00:00       3443610730   \n",
       "\n",
       "   amount  price                    database_time side  \n",
       "0    98.3  91.72 2022-03-01 14:15:22.169533+00:00  buy  "
      ]
     },
     "execution_count": 5,
     "metadata": {},
     "output_type": "execute_result"
    }
   ],
   "source": [
    "dataframes[\"ftx-luna\"].head(1)"
   ]
  },
  {
   "cell_type": "code",
   "execution_count": 15,
   "metadata": {},
   "outputs": [
    {
     "data": {
      "text/html": [
       "<div>\n",
       "<style scoped>\n",
       "    .dataframe tbody tr th:only-of-type {\n",
       "        vertical-align: middle;\n",
       "    }\n",
       "\n",
       "    .dataframe tbody tr th {\n",
       "        vertical-align: top;\n",
       "    }\n",
       "\n",
       "    .dataframe thead th {\n",
       "        text-align: right;\n",
       "    }\n",
       "</style>\n",
       "<table border=\"1\" class=\"dataframe\">\n",
       "  <thead>\n",
       "    <tr style=\"text-align: right;\">\n",
       "      <th></th>\n",
       "      <th>market</th>\n",
       "      <th>time</th>\n",
       "      <th>coin_metrics_id</th>\n",
       "      <th>amount</th>\n",
       "      <th>price</th>\n",
       "      <th>database_time</th>\n",
       "      <th>side</th>\n",
       "    </tr>\n",
       "  </thead>\n",
       "  <tbody>\n",
       "    <tr>\n",
       "      <th>0</th>\n",
       "      <td>binance.us-dai-usd-spot</td>\n",
       "      <td>2022-01-01 00:20:22.742000+00:00</td>\n",
       "      <td>102202</td>\n",
       "      <td>63.28</td>\n",
       "      <td>0.9995</td>\n",
       "      <td>2022-01-01 00:20:22.865667+00:00</td>\n",
       "      <td>sell</td>\n",
       "    </tr>\n",
       "  </tbody>\n",
       "</table>\n",
       "</div>"
      ],
      "text/plain": [
       "                    market                             time  coin_metrics_id  \\\n",
       "0  binance.us-dai-usd-spot 2022-01-01 00:20:22.742000+00:00           102202   \n",
       "\n",
       "   amount   price                    database_time  side  \n",
       "0   63.28  0.9995 2022-01-01 00:20:22.865667+00:00  sell  "
      ]
     },
     "execution_count": 15,
     "metadata": {},
     "output_type": "execute_result"
    }
   ],
   "source": [
    "dataframes[\"binance-dai\"].head(1)"
   ]
  },
  {
   "cell_type": "code",
   "execution_count": 4,
   "metadata": {},
   "outputs": [],
   "source": [
    "multi = [value for key, value in dataframes.items() if \"binance\" in key]\n",
    "\n",
    "binance = pd.concat(multi, ignore_index=True)"
   ]
  },
  {
   "cell_type": "code",
   "execution_count": 25,
   "metadata": {},
   "outputs": [
    {
     "data": {
      "text/plain": [
       "<StringArray>\n",
       "[ 'binance.us-dai-usd-spot', 'binance.us-usdc-usd-spot',\n",
       " 'binance.us-usdt-usd-spot']\n",
       "Length: 3, dtype: string"
      ]
     },
     "execution_count": 25,
     "metadata": {},
     "output_type": "execute_result"
    }
   ],
   "source": [
    "binance[\"market\"].unique()"
   ]
  },
  {
   "cell_type": "code",
   "execution_count": 26,
   "metadata": {},
   "outputs": [
    {
     "data": {
      "text/html": [
       "<div>\n",
       "<style scoped>\n",
       "    .dataframe tbody tr th:only-of-type {\n",
       "        vertical-align: middle;\n",
       "    }\n",
       "\n",
       "    .dataframe tbody tr th {\n",
       "        vertical-align: top;\n",
       "    }\n",
       "\n",
       "    .dataframe thead th {\n",
       "        text-align: right;\n",
       "    }\n",
       "</style>\n",
       "<table border=\"1\" class=\"dataframe\">\n",
       "  <thead>\n",
       "    <tr style=\"text-align: right;\">\n",
       "      <th></th>\n",
       "      <th>market</th>\n",
       "      <th>time</th>\n",
       "      <th>coin_metrics_id</th>\n",
       "      <th>amount</th>\n",
       "      <th>price</th>\n",
       "      <th>database_time</th>\n",
       "      <th>side</th>\n",
       "    </tr>\n",
       "  </thead>\n",
       "  <tbody>\n",
       "    <tr>\n",
       "      <th>0</th>\n",
       "      <td>binance.us-dai-usd-spot</td>\n",
       "      <td>2022-01-01 00:20:22.742000+00:00</td>\n",
       "      <td>102202</td>\n",
       "      <td>63.28</td>\n",
       "      <td>0.9995</td>\n",
       "      <td>2022-01-01 00:20:22.865667+00:00</td>\n",
       "      <td>sell</td>\n",
       "    </tr>\n",
       "  </tbody>\n",
       "</table>\n",
       "</div>"
      ],
      "text/plain": [
       "                    market                             time  coin_metrics_id  \\\n",
       "0  binance.us-dai-usd-spot 2022-01-01 00:20:22.742000+00:00           102202   \n",
       "\n",
       "   amount   price                    database_time  side  \n",
       "0   63.28  0.9995 2022-01-01 00:20:22.865667+00:00  sell  "
      ]
     },
     "execution_count": 26,
     "metadata": {},
     "output_type": "execute_result"
    }
   ],
   "source": [
    "binance.head(1)"
   ]
  },
  {
   "cell_type": "code",
   "execution_count": 5,
   "metadata": {},
   "outputs": [],
   "source": [
    "df=binance.copy()"
   ]
  },
  {
   "cell_type": "code",
   "execution_count": 6,
   "metadata": {},
   "outputs": [],
   "source": [
    "import pandas as pd\n",
    "import matplotlib.pyplot as plt\n"
   ]
  },
  {
   "cell_type": "code",
   "execution_count": 7,
   "metadata": {},
   "outputs": [],
   "source": [
    "\n",
    "# Add Month, Year, Day, and Hour columns\n",
    "df[\"year\"] = df[\"time\"].dt.year\n",
    "df[\"month\"] = df[\"time\"].dt.month\n",
    "df[\"day\"] = df[\"time\"].dt.day\n",
    "df[\"hour\"] = df[\"time\"].dt.hour\n"
   ]
  },
  {
   "cell_type": "code",
   "execution_count": 15,
   "metadata": {},
   "outputs": [
    {
     "data": {
      "image/png": "[encoded data removed]",
      "text/plain": [
       "<Figure size 1000x600 with 1 Axes>"
      ]
     },
     "metadata": {},
     "output_type": "display_data"
    }
   ],
   "source": [
    "\n",
    "# Aggregated Amount by Day\n",
    "daily_stats = df.groupby(df[\"month\"])[\"amount\"].sum()\n",
    "plt.figure(figsize=(10, 6))\n",
    "daily_stats.plot(kind=\"bar\")\n",
    "plt.title(\"Total Amount by month\")\n",
    "plt.xlabel(\"Date\")\n",
    "plt.ylabel(\"Total Amount\")\n",
    "plt.xticks(rotation=45)\n",
    "plt.show()"
   ]
  },
  {
   "cell_type": "code",
   "execution_count": 16,
   "metadata": {},
   "outputs": [
    {
     "data": {
      "image/png": "[encoded data removed]",
      "text/plain": [
       "<Figure size 1000x600 with 1 Axes>"
      ]
     },
     "metadata": {},
     "output_type": "display_data"
    }
   ],
   "source": [
    "# Aggregated Amount by Day\n",
    "daily_stats = df.groupby(df[\"month\"])[\"amount\"].mean()\n",
    "plt.figure(figsize=(10, 6))\n",
    "daily_stats.plot(kind=\"bar\")\n",
    "plt.title(\"avg Amount by month\")\n",
    "plt.xlabel(\"Date\")\n",
    "plt.ylabel(\"Total Amount\")\n",
    "plt.xticks(rotation=45)\n",
    "plt.show()"
   ]
  },
  {
   "cell_type": "code",
   "execution_count": 22,
   "metadata": {},
   "outputs": [
    {
     "data": {
      "image/png": "[encoded data removed]",
      "text/plain": [
       "<Figure size 1000x600 with 2 Axes>"
      ]
     },
     "metadata": {},
     "output_type": "display_data"
    }
   ],
   "source": [
    "df[\"day\"] = df[\"time\"].dt.date\n",
    "\n",
    "# Aggregate data by day\n",
    "daily_stats = df.groupby(\"day\").agg(\n",
    "    total_amount=(\"amount\", \"sum\"),\n",
    "    average_price=(\"price\", \"mean\")\n",
    ").reset_index()\n",
    "\n",
    "# Dual-Axis Plot\n",
    "fig, ax1 = plt.subplots(figsize=(10, 6))\n",
    "\n",
    "# Plot total amount on the primary y-axis\n",
    "ax1.bar(daily_stats[\"day\"], daily_stats[\"total_amount\"], color=\"skyblue\", label=\"Total Amount\", alpha=0.7)\n",
    "ax1.set_xlabel(\"Day\")\n",
    "ax1.set_ylabel(\"Total Amount\", color=\"blue\")\n",
    "ax1.tick_params(axis=\"y\", labelcolor=\"blue\")\n",
    "ax1.set_title(\"Total Amount and Average Price by Day\")\n",
    "\n",
    "# Plot average price on the secondary y-axis\n",
    "ax2 = ax1.twinx()\n",
    "ax2.plot(daily_stats[\"day\"], daily_stats[\"average_price\"], color=\"orange\", label=\"Average Price\", marker=\"o\")\n",
    "ax2.set_ylabel(\"Average Price\", color=\"orange\")\n",
    "ax2.tick_params(axis=\"y\", labelcolor=\"orange\")\n",
    "\n",
    "# Add a legend\n",
    "fig.legend(loc=\"upper left\", bbox_to_anchor=(0.1, 0.9))\n",
    "\n",
    "# Show the plot\n",
    "plt.xticks(rotation=45)\n",
    "plt.tight_layout()\n",
    "plt.show()"
   ]
  },
  {
   "cell_type": "code",
   "execution_count": 36,
   "metadata": {},
   "outputs": [],
   "source": [
    "daily_stats['spread']=(daily_stats['average_price']-1)\n",
    "daily_stats[\"minus\"] = (daily_stats['spread'] < 0).astype(int)\n",
    "daily_stats['true_spread']=np.abs(daily_stats['spread'])"
   ]
  },
  {
   "cell_type": "code",
   "execution_count": 39,
   "metadata": {},
   "outputs": [
    {
     "data": {
      "text/html": [
       "<div>\n",
       "<style scoped>\n",
       "    .dataframe tbody tr th:only-of-type {\n",
       "        vertical-align: middle;\n",
       "    }\n",
       "\n",
       "    .dataframe tbody tr th {\n",
       "        vertical-align: top;\n",
       "    }\n",
       "\n",
       "    .dataframe thead th {\n",
       "        text-align: right;\n",
       "    }\n",
       "</style>\n",
       "<table border=\"1\" class=\"dataframe\">\n",
       "  <thead>\n",
       "    <tr style=\"text-align: right;\">\n",
       "      <th></th>\n",
       "      <th>day</th>\n",
       "      <th>total_amount</th>\n",
       "      <th>average_price</th>\n",
       "      <th>spread</th>\n",
       "      <th>minus</th>\n",
       "      <th>true_spread</th>\n",
       "    </tr>\n",
       "  </thead>\n",
       "  <tbody>\n",
       "    <tr>\n",
       "      <th>131</th>\n",
       "      <td>2022-05-12</td>\n",
       "      <td>192213714.9</td>\n",
       "      <td>0.990759</td>\n",
       "      <td>-0.009241</td>\n",
       "      <td>1</td>\n",
       "      <td>0.009241</td>\n",
       "    </tr>\n",
       "    <tr>\n",
       "      <th>346</th>\n",
       "      <td>2022-12-13</td>\n",
       "      <td>9312702.19</td>\n",
       "      <td>1.00222</td>\n",
       "      <td>0.00222</td>\n",
       "      <td>0</td>\n",
       "      <td>0.00222</td>\n",
       "    </tr>\n",
       "    <tr>\n",
       "      <th>132</th>\n",
       "      <td>2022-05-13</td>\n",
       "      <td>12112619.33</td>\n",
       "      <td>0.998151</td>\n",
       "      <td>-0.001849</td>\n",
       "      <td>1</td>\n",
       "      <td>0.001849</td>\n",
       "    </tr>\n",
       "    <tr>\n",
       "      <th>130</th>\n",
       "      <td>2022-05-11</td>\n",
       "      <td>50151876.41</td>\n",
       "      <td>0.998322</td>\n",
       "      <td>-0.001678</td>\n",
       "      <td>1</td>\n",
       "      <td>0.001678</td>\n",
       "    </tr>\n",
       "    <tr>\n",
       "      <th>133</th>\n",
       "      <td>2022-05-14</td>\n",
       "      <td>5164175.09</td>\n",
       "      <td>0.998425</td>\n",
       "      <td>-0.001575</td>\n",
       "      <td>1</td>\n",
       "      <td>0.001575</td>\n",
       "    </tr>\n",
       "  </tbody>\n",
       "</table>\n",
       "</div>"
      ],
      "text/plain": [
       "            day  total_amount  average_price    spread  minus  true_spread\n",
       "131  2022-05-12   192213714.9       0.990759 -0.009241      1     0.009241\n",
       "346  2022-12-13    9312702.19        1.00222   0.00222      0      0.00222\n",
       "132  2022-05-13   12112619.33       0.998151 -0.001849      1     0.001849\n",
       "130  2022-05-11   50151876.41       0.998322 -0.001678      1     0.001678\n",
       "133  2022-05-14    5164175.09       0.998425 -0.001575      1     0.001575"
      ]
     },
     "execution_count": 39,
     "metadata": {},
     "output_type": "execute_result"
    }
   ],
   "source": [
    "daily_stats.sort_values(\"true_spread\",ascending=False).head(5)"
   ]
  }
 ],
 "metadata": {
  "kernelspec": {
   "display_name": "base",
   "language": "python",
   "name": "python3"
  },
  "language_info": {
   "codemirror_mode": {
    "name": "ipython",
    "version": 3
   },
   "file_extension": ".py",
   "mimetype": "text/x-python",
   "name": "python",
   "nbconvert_exporter": "python",
   "pygments_lexer": "ipython3",
   "version": "3.12.7"
  }
 },
 "nbformat": 4,
 "nbformat_minor": 2
}
